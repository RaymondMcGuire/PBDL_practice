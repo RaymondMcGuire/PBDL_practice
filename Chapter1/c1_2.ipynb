{
 "cells": [
  {
   "cell_type": "code",
   "execution_count": 32,
   "id": "1b7edca3-304a-48bf-91fc-869d73016de5",
   "metadata": {},
   "outputs": [],
   "source": [
    "import numpy as np \n",
    "import tensorflow as tf \n",
    "import matplotlib.pyplot as plt"
   ]
  },
  {
   "cell_type": "code",
   "execution_count": 33,
   "id": "597e672f-6952-40ce-ba0f-3935488eb7dc",
   "metadata": {},
   "outputs": [],
   "source": [
    "# X-Data \n",
    "N = 200 \n",
    "X = np.random.random(N)\n",
    "\n",
    "# Generation Y-Data\n",
    "sign = (- np.ones((N,)))**np.random.randint(2,size=N) \n",
    "Y = np.sqrt(X) * sign"
   ]
  },
  {
   "cell_type": "code",
   "execution_count": 34,
   "id": "fbfb938c-eafb-40d2-8609-0b4f6e734a54",
   "metadata": {},
   "outputs": [],
   "source": [
    "act = tf.keras.layers.ReLU() \n",
    "# Model\n",
    "nn_dp = tf.keras.models.Sequential([\n",
    "    tf.keras.layers.Dense(10, activation=act), \n",
    "    tf.keras.layers.Dense(10, activation=act),\n",
    "    tf.keras.layers.Dense(1, activation='linear')])"
   ]
  },
  {
   "cell_type": "code",
   "execution_count": 35,
   "id": "655cf3ce-17a1-4aa7-98cf-38c4259b0626",
   "metadata": {},
   "outputs": [],
   "source": [
    "#Loss \n",
    "mse = tf.keras.losses.MeanSquaredError() \n",
    "def loss_dp(y_true, y_pred): \n",
    "    return mse(y_true,y_pred**2)\n",
    "\n",
    "optimizer_dp = tf.keras.optimizers.Adam(learning_rate=0.001) \n",
    "nn_dp.compile(optimizer=optimizer_dp, loss=loss_dp)"
   ]
  },
  {
   "cell_type": "code",
   "execution_count": 36,
   "id": "e8215eb0-2f97-43e7-b0d0-6c2885f9ff2b",
   "metadata": {},
   "outputs": [
    {
     "name": "stdout",
     "output_type": "stream",
     "text": [
      "Epoch 1/5\n",
      "40/40 [==============================] - 0s 2ms/step - loss: 0.2241\n",
      "Epoch 2/5\n",
      "40/40 [==============================] - 0s 2ms/step - loss: 0.0534\n",
      "Epoch 3/5\n",
      "40/40 [==============================] - 0s 2ms/step - loss: 0.0023\n",
      "Epoch 4/5\n",
      "40/40 [==============================] - 0s 2ms/step - loss: 0.0018\n",
      "Epoch 5/5\n",
      "40/40 [==============================] - 0s 2ms/step - loss: 0.0018\n"
     ]
    }
   ],
   "source": [
    "#Training \n",
    "results_dp = nn_dp.fit(X, X, epochs=5, batch_size=5, verbose=1)"
   ]
  },
  {
   "cell_type": "code",
   "execution_count": 37,
   "id": "798558a1-c1d0-46a6-b438-82d67a78fb67",
   "metadata": {},
   "outputs": [
    {
     "data": {
      "image/png": "[encoded data removed]",
      "text/plain": [
       "<Figure size 432x288 with 1 Axes>"
      ]
     },
     "metadata": {
      "needs_background": "light"
     },
     "output_type": "display_data"
    }
   ],
   "source": [
    "# Results \n",
    "plt.plot(X,Y,'.',label='Datapoints', color=\"lightgray\") \n",
    "#plt.plot(X,nn_sv.predict(X),'.',label='Supervised', color=\"red\") \n",
    "# optional for comparison \n",
    "plt.plot(X,nn_dp.predict(X),'.',label='Diff. Phys.', color=\"green\") \n",
    "plt.xlabel('x') \n",
    "plt.ylabel('y') \n",
    "plt.title('Differentiable physics approach') \n",
    "plt.legend() \n",
    "plt.show()"
   ]
  },
  {
   "cell_type": "code",
   "execution_count": null,
   "id": "28cfd40d-6c6c-485c-be04-7c3e68641562",
   "metadata": {},
   "outputs": [],
   "source": []
  }
 ],
 "metadata": {
  "kernelspec": {
   "display_name": "Python 3 (ipykernel)",
   "language": "python",
   "name": "python3"
  },
  "language_info": {
   "codemirror_mode": {
    "name": "ipython",
    "version": 3
   },
   "file_extension": ".py",
   "mimetype": "text/x-python",
   "name": "python",
   "nbconvert_exporter": "python",
   "pygments_lexer": "ipython3",
   "version": "3.9.7"
  }
 },
 "nbformat": 4,
 "nbformat_minor": 5
}
